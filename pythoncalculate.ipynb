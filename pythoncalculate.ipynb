{
 "cells": [
  {
   "cell_type": "code",
   "execution_count": null,
   "metadata": {
    "collapsed": false,
    "deletable": true,
    "editable": true
   },
   "outputs": [],
   "source": [
    "def calculateAnswer(lhs,rhs,operator):\n",
    "    if(operator == \"+\"):\n",
    "        return lhs + rhs\n",
    "    if(operator == \"-\"):\n",
    "        return lhs - rhs\n",
    "    if(operator == \"*\"):\n",
    "        return lhs * rhs\n",
    "    if(operator == \"/\"):\n",
    "        return lhs / rhs\n",
    "    else:\n",
    "        raise Exception(\"Unknown error has occured\")\n",
    "print(calculateAnswer(8,2,\"+\"))\n",
    "print(calculateAnswer(8,2,\"-\"))\n",
    "print(calculateAnswer(8,2,\"*\"))\n",
    "print(calculateAnswer(5,2,\"/\"))\n",
    "print(calculateAnswer(8,2,\"+\"))\n",
    "print(calculateAnswer(9,2,\"-\"))\n",
    "print(calculateAnswer(8,2,\"*\"))\n",
    "print(calculateAnswer(8,4,\"/\"))\n",
    "print(calculateAnswer(8,2,\"+\"))\n",
    "print(calculateAnswer(5,3,\"-\"))\n",
    "print(calculateAnswer(1,2,\"*\"))\n",
    "print(calculateAnswer(2,2,\"/\"))"
   ]
  },
  {
   "cell_type": "code",
   "execution_count": 3,
   "metadata": {
    "collapsed": false,
    "deletable": true,
    "editable": true
   },
   "outputs": [],
   "source": [
    "from random import randint\n",
    "def generateQuestion():\n",
    "    ops =\"/*+-\"\n",
    "    opIndex = randint(0,len(ops)-1)\n",
    "    operator =ops[opIndex]\n",
    "    lhs =randint(0,10)\n",
    "    rhs = randint(0,10)\n",
    "    while(rhs==0 and operator ==\"/\"):\n",
    "        rhs = randint(0,10) \n",
    "    return lhs,rhs,operator\n",
    "# for i in range(0,10):\n",
    "#     result = generateQuestion()\n",
    "#     calAnswer =calculateAnswer(result[0],result[1],result[2])\n",
    "#     return \"{0} {2} {1}\".format(result[0],result[1],result[2])"
   ]
  },
  {
   "cell_type": "code",
   "execution_count": null,
   "metadata": {
    "collapsed": false,
    "deletable": true,
    "editable": true
   },
   "outputs": [
    {
     "name": "stdout",
     "output_type": "stream",
     "text": [
      "Number of question = 2\n"
     ]
    }
   ],
   "source": [
    "totquest = int(input(\"Number of question = \"))\n",
    "correct = 0\n",
    "for i in range(totquest):\n",
    "    result = generateQuestion()\n",
    "    correctAnswer =calculateAnswer(result[0],result[1],result[2])\n",
    "    PlayerInputAnswer = input(\"{0} {2} {1} = \".format(result[0],result[1],result[2]))\n",
    "    if(str(correctAnswer) == PlayerInputAnswer):\n",
    "        print(\"You are correct\")\n",
    "        correct +=1\n",
    "    else:\n",
    "        print(\"\"\"Lol!! what is that Dumbaass...The correct answer is = \"\"\" +str(correctAnswer))\n",
    "print(\"You got {0} out of {1}\".format(correct,totquest))"
   ]
  },
  {
   "cell_type": "code",
   "execution_count": null,
   "metadata": {
    "collapsed": true
   },
   "outputs": [],
   "source": []
  }
 ],
 "metadata": {
  "kernelspec": {
   "display_name": "Python 3.7.2 64-bit",
   "language": "python",
   "name": "python37264bit80703674eb31479f9bdd4d3967985fbd"
  }
 },
 "nbformat": 4,
 "nbformat_minor": 2
}
